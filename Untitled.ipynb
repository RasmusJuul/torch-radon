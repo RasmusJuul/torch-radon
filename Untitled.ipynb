{
 "cells": [
  {
   "cell_type": "code",
   "execution_count": null,
   "metadata": {},
   "outputs": [],
   "source": [
    "import numpy as np\n",
    "import matplotlib.pyplot as plt\n",
    "import torch\n",
    "import torch_radon as tr\n",
    "from torch_radon_cuda import SymbolicFunction, symbolic_discretize, symbolic_forward\n",
    "import random\n",
    "\n",
    "n_angles = 2048\n",
    "device = torch.device(\"cuda\")\n",
    "angles = np.linspace(0, 2*np.pi, n_angles, endpoint=False)\n",
    "\n",
    "dy = 160\n",
    "dx = 160\n",
    "s = 4096*4\n",
    "\n",
    "volume = tr.Volume2D(s, center=(dx, dy), voxel_size=(1.0, 1.0))\n",
    "radon = tr.FanBeam(s, angles=(0, 2*np.pi, n_angles), volume=volume)"
   ]
  },
  {
   "cell_type": "code",
   "execution_count": null,
   "metadata": {
    "scrolled": false
   },
   "outputs": [],
   "source": [
    "f = SymbolicFunction(s, s)\n",
    "\n",
    "f.add_ellipse(1, 0, 0, 16, 16)\n",
    "for i in range(25):\n",
    "    w = random.uniform(0, 1)\n",
    "    cx = random.uniform(-s/2, s/2)\n",
    "    cy = random.uniform(-s/2, s/2)\n",
    "    rx = random.uniform(10, 100)\n",
    "    ry = random.uniform(10, 100)\n",
    "\n",
    "    \n",
    "    if random.randint(0, 1) < 0.5:\n",
    "        f.add_ellipse(w, cx, cy, rx, ry)\n",
    "    else:\n",
    "        f.add_gaussian(5*w, cx, cy, 0.5/rx**2, 0.5/ry**2)\n",
    "\n",
    "x = symbolic_discretize(f, s, s)\n",
    "f.scale(*volume.voxel_size)\n",
    "f.move(dx, dy)\n",
    "\n",
    "# plt.imshow(x.cpu().numpy())"
   ]
  },
  {
   "cell_type": "code",
   "execution_count": null,
   "metadata": {},
   "outputs": [],
   "source": [
    "y = symbolic_forward(f, radon.angles.cpu(), radon.projection.cfg).cpu().numpy()\n",
    "plt.imshow(y)"
   ]
  },
  {
   "cell_type": "code",
   "execution_count": null,
   "metadata": {},
   "outputs": [],
   "source": [
    "y_ = radon.forward(torch.FloatTensor(s,s).to(device))\n",
    "plt.imshow(y_.cpu().numpy())"
   ]
  },
  {
   "cell_type": "code",
   "execution_count": null,
   "metadata": {},
   "outputs": [],
   "source": [
    "plt.imshow(np.abs(y - y_.cpu().numpy()))\n",
    "print(np.linalg.norm(y - y_.cpu().numpy()) / np.linalg.norm(y))"
   ]
  },
  {
   "cell_type": "code",
   "execution_count": null,
   "metadata": {},
   "outputs": [],
   "source": [
    "a = y_ / torch.max(y_)\n",
    "z = radon.backward(a)\n",
    "plt.imshow(z.cpu().numpy())\n",
    "\n",
    "print(a.size(), y_.size(), x.size(), z.size())\n",
    "\n",
    "print(torch.sum(a * y_), torch.sum(z * x.to(device)))\n",
    "print((torch.sum(a * y_) - torch.sum(z * x.to(device)))/torch.sum(a * y_))"
   ]
  },
  {
   "cell_type": "code",
   "execution_count": null,
   "metadata": {},
   "outputs": [],
   "source": [
    "import astra\n",
    "\n",
    "bp = radon.backward(y_)\n",
    "\n",
    "vol_geom = astra.create_vol_geom(x.shape[0], x.shape[1])\n",
    "proj_geom = astra.create_proj_geom('fanflat', 2.0, 512, angles, 512, 512)\n",
    "proj_id = astra.create_projector('cuda', proj_geom, vol_geom)\n",
    "\n",
    "_, astra_y = astra.create_sino(x.cpu().numpy(), proj_id)\n",
    "_, astra_bp = astra.create_backprojection(astra_y, proj_id)\n",
    "\n",
    "plt.imshow(np.abs(astra_y - y_.cpu().numpy()))\n",
    "print(\"Forward:\", np.linalg.norm(astra_y - y_.cpu().numpy()) / np.linalg.norm(astra_y))\n",
    "\n",
    "plt.figure()\n",
    "plt.imshow(np.abs(astra_bp - bp.cpu().numpy()))\n",
    "print(\"Backward:\", np.linalg.norm(astra_bp - bp.cpu().numpy()) / np.linalg.norm(astra_bp))\n",
    "\n",
    "print(np.sum(astra_y**2), np.sum(astra_bp*x.cpu().numpy()))"
   ]
  },
  {
   "cell_type": "code",
   "execution_count": null,
   "metadata": {},
   "outputs": [],
   "source": [
    "filtered_sino = radon.filter_sinogram(y_)\n",
    "plt.imshow(filtered_sino.cpu().numpy())\n",
    "bp = radon.backward(filtered_sino).cpu().numpy()\n",
    "plt.figure()\n",
    "plt.imshow(bp)\n",
    "print(np.linalg.norm(bp - x.numpy()) / np.linalg.norm(x.numpy()))"
   ]
  },
  {
   "cell_type": "code",
   "execution_count": null,
   "metadata": {},
   "outputs": [],
   "source": [
    "# import torch.nn.functional as F\n",
    "# import torch_radon_cuda\n",
    "\n",
    "# sinogram = y_.unsqueeze(0)\n",
    "# size = sinogram.size(2)\n",
    "# padded_size = max(64, int(2 ** np.ceil(np.log2(2 * size))))\n",
    "# pad = padded_size - size\n",
    "# padded_sinogram = F.pad(sinogram.float(), (0, pad, 0, 0))\n",
    "\n",
    "# sino_fft = torch_radon_cuda.rfft(padded_sinogram, radon.fft_cache) / np.sqrt(padded_size)\n",
    "# print(sino_fft.size(), sino_fft.dtype)\n",
    "# torch_fft = torch.fft.rfft(padded_sinogram, norm=\"ortho\")\n",
    "# print(torch_fft.size(), torch_fft.dtype)\n",
    "\n",
    "# print(torch.allclose(sino_fft[:, :, :, 0], torch_fft.real))\n",
    "# print(torch.allclose(sino_fft[:, :, :, 1], torch_fft.imag))\n",
    "\n",
    "# f = radon.fourier_filters.get(padded_size, \"ramp\", sinogram.device)\n",
    "# filtered_sino_fft = sino_fft * f\n",
    "# filtered_torch_sino_fft = torch_fft * f.squeeze(-1)\n",
    "\n",
    "# filtered_sinogram = torch_radon_cuda.irfft(filtered_sino_fft, radon.fft_cache) / np.sqrt(padded_size)\n",
    "# torch_filtered = torch.fft.irfft(filtered_torch_sino_fft, padded_size, norm=\"ortho\")\n",
    "# plt.imshow((filtered_sinogram[0] - torch_filtered[0]).cpu().numpy())\n",
    "\n",
    "# print(torch.allclose(filtered_sinogram, torch_filtered))"
   ]
  },
  {
   "cell_type": "code",
   "execution_count": null,
   "metadata": {},
   "outputs": [],
   "source": []
  },
  {
   "cell_type": "code",
   "execution_count": null,
   "metadata": {},
   "outputs": [],
   "source": []
  }
 ],
 "metadata": {
  "kernelspec": {
   "display_name": "Python 3",
   "language": "python",
   "name": "python3"
  },
  "language_info": {
   "codemirror_mode": {
    "name": "ipython",
    "version": 3
   },
   "file_extension": ".py",
   "mimetype": "text/x-python",
   "name": "python",
   "nbconvert_exporter": "python",
   "pygments_lexer": "ipython3",
   "version": "3.7.7"
  }
 },
 "nbformat": 4,
 "nbformat_minor": 4
}
