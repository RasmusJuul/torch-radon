{
 "cells": [
  {
   "cell_type": "code",
   "execution_count": 4,
   "metadata": {},
   "outputs": [
    {
     "name": "stdout",
     "output_type": "stream",
     "text": [
      "True\n"
     ]
    }
   ],
   "source": [
    "import numpy as np\n",
    "\n",
    "cov = np.asarray([\n",
    "    [680.155,  191.208, -1612.03],\n",
    " [191.208,  390.223, -1186.27],\n",
    "[-1612.03, -1186.27,    18512]\n",
    "])\n",
    "\n",
    "d, V = np.linalg.eigh(cov)\n",
    "print(np.allclose(V @ np.diag(d) @ V.T, cov))"
   ]
  },
  {
   "cell_type": "code",
   "execution_count": 12,
   "metadata": {},
   "outputs": [
    {
     "name": "stdout",
     "output_type": "stream",
     "text": [
      "[  283.69000245   563.81305532 18734.87494223]\n",
      "[[-0.32163286 -0.94263194 -0.08942781]\n",
      " [ 0.94628437 -0.31669349 -0.06520058]\n",
      " [ 0.03313894 -0.10559479  0.99385691]]\n",
      "10.663882647997921\n",
      "84.47777752383351\n"
     ]
    }
   ],
   "source": [
    "import math\n",
    "print(d)\n",
    "print(V)\n",
    "print((math.atan2(0.99385691, -0.08942781) - math.atan2(0.991509, 0.0958596)) / np.pi * 180)\n",
    "print(math.atan2(0.991509, 0.0958596) / np.pi * 180)\n"
   ]
  },
  {
   "cell_type": "code",
   "execution_count": null,
   "metadata": {},
   "outputs": [],
   "source": []
  }
 ],
 "metadata": {
  "kernelspec": {
   "display_name": "Python 3",
   "language": "python",
   "name": "python3"
  },
  "language_info": {
   "codemirror_mode": {
    "name": "ipython",
    "version": 3
   },
   "file_extension": ".py",
   "mimetype": "text/x-python",
   "name": "python",
   "nbconvert_exporter": "python",
   "pygments_lexer": "ipython3",
   "version": "3.7.7"
  }
 },
 "nbformat": 4,
 "nbformat_minor": 4
}
